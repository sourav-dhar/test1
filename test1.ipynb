{
 "cells": [
  {
   "cell_type": "code",
   "execution_count": 1,
   "metadata": {},
   "outputs": [],
   "source": [
    "def moveZeroes(nums):\n",
    "    \n",
    "    # Initialize two pointers: one for iterating through the array, and another for keeping track of the position to place non-zero elements.\n",
    "    i = 0\n",
    "    j = 0\n",
    "\n",
    "    # Iterate through the array\n",
    "    while i < len(nums):\n",
    "        # If the current element is non-zero, place it at the position indicated by the second pointer.\n",
    "        if nums[i] != 0:\n",
    "            nums[j] = nums[i]\n",
    "            j += 1\n",
    "        i += 1\n",
    "\n",
    "    # After placing all non-zero elements, fill the remaining positions with zeros.\n",
    "    while j < len(nums):\n",
    "        nums[j] = 0\n",
    "        j += 1\n",
    "\n",
    "        \n",
    "        "
   ]
  }
 ],
 "metadata": {
  "kernelspec": {
   "display_name": "Python 3",
   "language": "python",
   "name": "python3"
  },
  "language_info": {
   "codemirror_mode": {
    "name": "ipython",
    "version": 3
   },
   "file_extension": ".py",
   "mimetype": "text/x-python",
   "name": "python",
   "nbconvert_exporter": "python",
   "pygments_lexer": "ipython3",
   "version": "3.8.5"
  }
 },
 "nbformat": 4,
 "nbformat_minor": 4
}
